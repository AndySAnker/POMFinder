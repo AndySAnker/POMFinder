{
  "nbformat": 4,
  "nbformat_minor": 0,
  "metadata": {
    "colab": {
      "name": "POMFinder.ipynb",
      "provenance": [],
      "collapsed_sections": [],
      "authorship_tag": "ABX9TyMhQrkbsCZz9N4iI/KTWejH",
      "include_colab_link": true
    },
    "kernelspec": {
      "name": "python3",
      "display_name": "Python 3"
    },
    "language_info": {
      "name": "python"
    }
  },
  "cells": [
    {
      "cell_type": "markdown",
      "metadata": {
        "id": "view-in-github",
        "colab_type": "text"
      },
      "source": [
        "<a href=\"https://colab.research.google.com/github/AndySAnker/POMFinder/blob/master/POMFinder.ipynb\" target=\"_parent\"><img src=\"https://colab.research.google.com/assets/colab-badge.svg\" alt=\"Open In Colab\"/></a>"
      ]
    },
    {
      "cell_type": "markdown",
      "source": [
        "#POMFinder\n",
        "**Github:** https://github.com/AndySAnker/POMFinder\n",
        "\n",
        "**Paper:** ----\n",
        "\n",
        "**Questions:** andy@chem.ku.dk \n",
        "\n",
        "Welcome to POMFinder that is a Gradiant Boosted Decision Tree algorithm which learns the relation between a PDF measured on a polyoxometalate cluster and its atomic structure.\n",
        "\n",
        "This script guides you through a simple example of how to use POMFinder to predict a polyoxometalate cluster on a given PDF.\n"
      ],
      "metadata": {
        "id": "piadj5sQNDnI"
      }
    },
    {
      "cell_type": "markdown",
      "source": [
        "# First install requirements for DeepStruc (this step takes 5 - 10 minutes)"
      ],
      "metadata": {
        "id": "J_85vASzNCu3"
      }
    },
    {
      "cell_type": "code",
      "source": [
        "???"
      ],
      "metadata": {
        "id": "LV21Ev6PM9NN"
      },
      "execution_count": null,
      "outputs": []
    },
    {
      "cell_type": "markdown",
      "source": [
        "# Predict with POMFinder"
      ],
      "metadata": {
        "id": "N5y_IzN0NQL4"
      }
    },
    {
      "cell_type": "code",
      "source": [
        "???"
      ],
      "metadata": {
        "id": "GwJhSzRRNT3a"
      },
      "execution_count": null,
      "outputs": []
    },
    {
      "cell_type": "markdown",
      "source": [
        "# Download the results"
      ],
      "metadata": {
        "id": "QH6K4gWVNZTj"
      }
    },
    {
      "cell_type": "code",
      "source": [
        "# Download the latest results\n",
        "shutil.make_archive(latest_subdir, 'zip', latest_subdir)\n",
        "files.download(latest_subdir + \".zip\")"
      ],
      "metadata": {
        "id": "5grI2bhONbg7"
      },
      "execution_count": null,
      "outputs": []
    },
    {
      "cell_type": "markdown",
      "source": [
        "# Cite\n",
        "If you use POMFinder, please consider citing our paper. Thanks in advance!\n",
        "```\n",
        "???\n",
        "```\n",
        "\n",
        "# LICENSE\n",
        "This project is licensed under the Apache License Version 2.0, January 2004 - see the LICENSE file at https://github.com/AndySAnker/POMFinder/blob/main/LICENSE.md for details."
      ],
      "metadata": {
        "id": "UMkG2vUxNZWM"
      }
    },
    {
      "cell_type": "code",
      "source": [
        ""
      ],
      "metadata": {
        "id": "YSB5V4M_NoHb"
      },
      "execution_count": null,
      "outputs": []
    }
  ]
}